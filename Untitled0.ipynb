{
 "metadata": {
  "name": ""
 },
 "nbformat": 3,
 "nbformat_minor": 0,
 "worksheets": [
  {
   "cells": [
    {
     "cell_type": "markdown",
     "metadata": {},
     "source": [
      "##\u90e8\u5206\u7a7a\u9593\u6cd5\n",
      "- \u90e8\u5206\u7a7a\u9593\u3068\u306f\u3001\u3042\u308b\u30d9\u30af\u30c8\u30eb\u7a7a\u9593\u306e\u90e8\u5206\u96c6\u5408\u304c\u3001\u30d9\u30af\u30c8\u30eb\u7a7a\u9593\u3068\u306a\u3063\u3066\u3044\u308b\u3082\u306e\n",
      "- d\u6b21\u5143\u30d9\u30af\u30c8\u30eb\u7a7a\u9593V\u306e\u90e8\u5206\u7a7a\u9593\u306f\u3001\u4ee5\u4e0b\u306e\u3088\u3046\u306b\u5b9a\u7fa9\u3055\u308c\u308b\u3002\n",
      "    - $x_1,x_2,x_3,\u30fb\u30fb\u30fb\u30fbx_r (r<=d)$\u3092V\u306e\u30d9\u30af\u30c8\u30eb\u3068\u3059\u308b\u3068\u3059\u308b\n",
      "    - $x_1,x_2,x_3,\u30fb\u30fb\u30fb\u30fbx_r$\u306e\uff11\u6b21\u7d50\u5408\u5168\u4f53\u306e\u96c6\u5408$W=\\{a_1x_1+\u30fb\u30fb\u30fb+a_rx_r|a\u2208R,i=1,\u30fb\u30fb\u30fb,r\\}$\u306fV\u306e\u90e8\u5206\u7a7a\u9593\u3068\u306a\u308b\n",
      "- W\u304cr\u6b21\u5143\u306e\u90e8\u5206\u7a7a\u9593\u3067\u3042\u308b\u3068\u3044\u3046\u3053\u3068\u306f\u3001$x_1,x_2,x_3,\u30fb\u30fb\u30fb\u30fbx_r$\u306f\uff11\u6b21\u72ec\u7acb\u3067\u3042\u308b\u3068\u3044\u3046\u3053\u3068\uff08$x_1$\u306f\u3001\u4ed6\u306etano$x_i$\u306e\u7dda\u5f62\u7d50\u5408\u3067\u8868\u73fe\u3059\u308b\u3053\u3068\u304c\u3067\u304d\u306a\u3044\uff09\n",
      "\n",
      "###\u90e8\u5206\u7a7a\u9593\u306e\u5b9a\u7fa9\n",
      "W\u304cV\u306e\u90e8\u5206\u7a7a\u9593\u3067\u3042\u308b\u305f\u3081\u306e\u5fc5\u8981\u5341\u5206\u6761\u4ef6\n",
      "\n",
      "1. $W\u22600$ :\u5b58\u5728\u3057\u3066\u3044\u308b\n",
      "1. $x,y\u2208W \u2192 x\uff0by\u2208W$\u3000\uff1a\u5206\u914d\u3057\u3066\u3082\u540c\u3058\u3000\n",
      "1. $x\u2208W,\u03bb\u2208R \u2192 \u03bbx \u2208W$\u3000\uff1ax\u306b\u5b9f\u6570\u3092\u639b\u3051\u3066\u3082\u540c\u3058\n",
      "\n",
      "###\u90e8\u5206\u7a7a\u9593\u3068\u5206\u89e3\n",
      "\u30d9\u30af\u30c8\u30eb\u7a7a\u9593V\u306f\u90e8\u5206\u7a7a\u9593S\u3068\u76f4\u4ea4\u3059\u308b\u90e8\u5206\u7a7a\u9593$S^\u22a5$\u306b\u5206\u89e3\u3067\u304d\u308b\n",
      "![image1.png](./image1.png)\n",
      "\n",
      "\u305f\u3060\u3057\u3001\uff11\u6b21\u72ec\u7acb\u3067\u3042\u3063\u3066\u3082\u3001\u76f4\u4ea4\u3057\u3066\u3044\u306a\u3044\u5834\u5408\u3082\u3042\u308b\u3002</br>\n",
      "\u305d\u306e\u5834\u5408\u3001\u76f4\u4ea4\u5ea7\u6a19\u7cfb\u306b\u5909\u63db\u3059\u308b\u5fc5\u8981\u304c\u3042\u308b\uff08\u30b0\u30e9\u30e0\u30fb\u30b7\u30e5\u30df\u30c3\u30c8\u306e\u6b63\u898f\u76f4\u4ea4\u5316\u306a\u3069\uff09</br>\n",
      "\u305d\u3046\u3059\u308b\u3053\u3068\u306b\u3088\u3063\u3066\u3001\u90e8\u5206\u7a7a\u9593\u306e\u6b63\u898f\u76f4\u4ea4\u57fa\u5e95\u3092\u6c42\u3081\u308b\u3053\u3068\u304c\u3067\u304d\u308b\u3002\n",
      "\n",
      "####\u30b0\u30e9\u30e0\u30fb\u30b7\u30e5\u30df\u30c3\u30c8\u306e\u6b63\u898f\u76f4\u4ea4\u5316\n",
      "\n",
      "\uff12\u3064\u306e\u30d9\u30af\u30c8\u30eb\u306e\u6b63\u898f\u76f4\u4ea4\u5316\u306e\u624b\u9806(a1/a2)\n",
      "\n",
      "1. a1\u3092\u57fa\u6e96\u306b\u3068\u308b\n",
      "2. a1\u3092\u6b63\u898f\u5316\u3059\u308b(\u9577\u3055(\u30ce\u30eb\u30e0)\u3092\uff11\u306b\u3059\u308b)\n",
      "3. a2\u3092a1\u306b\u5bfe\u3057\u76f4\u884c\u3059\u308b\u3088\u3046\u306b1\u6b21\u5909\u63db\u3059\u308b\n",
      "4. (3)\u3067\u4f5c\u3063\u305f\u30d9\u30af\u30c8\u30eb\u3092\u6b63\u898f\u5316\u3059\u308b\n",
      "\n",
      "\u53c2\u8003\uff1a\u3053\u3053\u306e\u30b5\u30a4\u30c8\u304c\u308f\u304b\u308a\u3084\u3059\u304b\u3063\u305f</br>\n",
      "http://li.nu/blog/2010/07/gram-schmidt.html\n",
      "\n",
      "###QR\u5206\u89e3\n",
      "\u30b0\u30e9\u30e0\u30b7\u30e5\u30df\u30c3\u30c8\u306e\u76f4\u4ea4\u5316\u306b\u3088\u308bQR\u5206\u89e3\u306b\u3088\u3063\u3066\u3001\u6b63\u898f\u76f4\u4ea4\u57fa\u5e95\u3092\u6c42\u3081\u3066\u307f\u308b\u3002</br>\n",
      "QR\u5206\u89e3\u3068\u306f\u3001n x n\u306e\u6b63\u65b9\u884c\u5217\u3092\u76f4\u884c\u884c\u5217\u3068\u4e0a\u4e09\u89d2\u884c\u5217\u306e\u4e57\u7b97\u306b\u7f6e\u304d\u63db\u3048\u308b\u3053\u3068\u3002</br>\n",
      "\u4ee5\u4e0b\u3001numpy\u3067\u8a66\u3059\u3002"
     ]
    },
    {
     "cell_type": "code",
     "collapsed": false,
     "input": [
      "import numpy as np"
     ],
     "language": "python",
     "metadata": {},
     "outputs": [],
     "prompt_number": 1
    },
    {
     "cell_type": "code",
     "collapsed": false,
     "input": [
      "mtx = np.array([[5,2,2],[3,7,4],[1,2,5]])"
     ],
     "language": "python",
     "metadata": {},
     "outputs": [],
     "prompt_number": 26
    },
    {
     "cell_type": "code",
     "collapsed": false,
     "input": [
      "mtx"
     ],
     "language": "python",
     "metadata": {},
     "outputs": [
      {
       "metadata": {},
       "output_type": "pyout",
       "prompt_number": 27,
       "text": [
        "array([[5, 2, 2],\n",
        "       [3, 7, 4],\n",
        "       [1, 2, 5]])"
       ]
      }
     ],
     "prompt_number": 27
    },
    {
     "cell_type": "code",
     "collapsed": false,
     "input": [
      "q, r = np.linalg.qr(mtx)         #linalg.qr\u304cQR\u5206\u89e3\u306e\u30e1\u30bd\u30c3\u30c9"
     ],
     "language": "python",
     "metadata": {},
     "outputs": [],
     "prompt_number": 28
    },
    {
     "cell_type": "code",
     "collapsed": false,
     "input": [
      "print q"
     ],
     "language": "python",
     "metadata": {},
     "outputs": [
      {
       "output_type": "stream",
       "stream": "stdout",
       "text": [
        "[[-0.84515425  0.53348902 -0.03322277]\n",
        " [-0.50709255 -0.81988839 -0.2657822 ]\n",
        " [-0.16903085 -0.20777993  0.96346047]]\n"
       ]
      }
     ],
     "prompt_number": 29
    },
    {
     "cell_type": "code",
     "collapsed": false,
     "input": [
      "print r"
     ],
     "language": "python",
     "metadata": {},
     "outputs": [
      {
       "output_type": "stream",
       "stream": "stdout",
       "text": [
        "[[-5.91607978 -5.57801808 -4.56383298]\n",
        " [ 0.         -5.08780054 -3.25147518]\n",
        " [ 0.          0.          3.68772799]]\n"
       ]
      }
     ],
     "prompt_number": 30
    },
    {
     "cell_type": "code",
     "collapsed": false,
     "input": [
      "np.dot(q, r) #q,r\u306e\u5185\u7a4d"
     ],
     "language": "python",
     "metadata": {},
     "outputs": [
      {
       "metadata": {},
       "output_type": "pyout",
       "prompt_number": 31,
       "text": [
        "array([[ 5.,  2.,  2.],\n",
        "       [ 3.,  7.,  4.],\n",
        "       [ 1.,  2.,  5.]])"
       ]
      }
     ],
     "prompt_number": 31
    },
    {
     "cell_type": "markdown",
     "metadata": {},
     "source": [
      "\u3064\u307e\u308a\u3001q\u304cmtx\u306b\u5bfe\u3059\u308b\u6b63\u898f\u76f4\u4ea4\u884c\u5217\u3068\u306a\u308b\u3002</br>\n",
      "QR\u5206\u89e3\u3067\u306f\u6b63\u898f\u76f4\u4ea4\u884c\u5217\u3092\u6c42\u3081\u308b\u3053\u3068\u304c\u3067\u304d\u305f\u304c\u3001\u6b21\u5143\u5727\u7e2e\u3068\u3044\u3046\u610f\u5473\u3067\u306f\u4e3b\u6210\u5206\u5206\u6790\u304c\u4f7f\u308f\u308c\u308b\u3002"
     ]
    },
    {
     "cell_type": "code",
     "collapsed": false,
     "input": [],
     "language": "python",
     "metadata": {},
     "outputs": []
    }
   ],
   "metadata": {}
  }
 ]
}