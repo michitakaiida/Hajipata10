{
 "cells": [
  {
   "cell_type": "code",
   "execution_count": 2,
   "metadata": {
    "collapsed": false
   },
   "outputs": [
    {
     "name": "stdout",
     "output_type": "stream",
     "text": [
      "Using matplotlib backend: MacOSX\n"
     ]
    }
   ],
   "source": [
    "%matplotlib"
   ]
  },
  {
   "cell_type": "markdown",
   "metadata": {},
   "source": [
    "##部分空間法\n",
    "- 部分空間とは、あるベクトル空間の部分集合が、ベクトル空間となっているもの\n",
    "- d次元ベクトル空間Vの部分空間は、以下のように定義される。\n",
    "    - $x_1,x_2,x_3,・・・・x_r (r<=d)$をVのベクトルとするとする\n",
    "    - $x_1,x_2,x_3,・・・・x_r$の１次結合全体の集合$W=\\{a_1x_1+・・・+a_rx_r|a∈R,i=1,・・・,r\\}$はVの部分空間となる\n",
    "- Wがr次元の部分空間であるということは、$x_1,x_2,x_3,・・・・x_r$は１次独立であるということ（$x_1$は、他のtano$x_i$の線形結合で表現することができない）\n",
    "\n",
    "###部分空間の定義\n",
    "WがVの部分空間であるための必要十分条件\n",
    "\n",
    "1. $W≠0$ :存在している\n",
    "1. $x,y∈W → x＋y∈W$　：分配しても同じ　\n",
    "1. $x∈W,λ∈R → λx ∈W$　：xに実数を掛けても同じ\n",
    "\n",
    "###部分空間と分解\n",
    "ベクトル空間Vは部分空間Sと直交する部分空間$S^⊥$に分解できる\n",
    "![image1.png](./image1.png)\n",
    "\n",
    "ただし、１次独立であっても、直交していない場合もある。</br>\n",
    "その場合、直交座標系に変換する必要がある（グラム・シュミットの正規直交化など）</br>\n",
    "そうすることによって、部分空間の正規直交基底を求めることができる。\n",
    "\n",
    "####グラム・シュミットの正規直交化\n",
    "\n",
    "２つのベクトルの正規直交化の手順(a1/a2)\n",
    "\n",
    "1. a1を基準にとる\n",
    "2. a1を正規化する(長さ(ノルム)を１にする)\n",
    "3. a2をa1に対し直行するように1次変換する\n",
    "4. (3)で作ったベクトルを正規化する\n",
    "\n",
    "参考：ここのサイトがわかりやすかった</br>\n",
    "http://li.nu/blog/2010/07/gram-schmidt.html\n",
    "\n",
    "###QR分解\n",
    "グラムシュミットの直交化によるQR分解によって、正規直交基底を求めてみる。</br>\n",
    "QR分解とは、n x nの正方行列を直行行列と上三角行列の乗算に置き換えること。</br>\n",
    "以下、numpyで試す。"
   ]
  },
  {
   "cell_type": "code",
   "execution_count": 1,
   "metadata": {
    "collapsed": false
   },
   "outputs": [],
   "source": [
    "import numpy as np"
   ]
  },
  {
   "cell_type": "code",
   "execution_count": 26,
   "metadata": {
    "collapsed": false
   },
   "outputs": [],
   "source": [
    "mtx = np.array([[5,2,2],[3,7,4],[1,2,5]])"
   ]
  },
  {
   "cell_type": "code",
   "execution_count": 27,
   "metadata": {
    "collapsed": false
   },
   "outputs": [
    {
     "data": {
      "text/plain": [
       "array([[5, 2, 2],\n",
       "       [3, 7, 4],\n",
       "       [1, 2, 5]])"
      ]
     },
     "execution_count": 27,
     "metadata": {},
     "output_type": "execute_result"
    }
   ],
   "source": [
    "mtx"
   ]
  },
  {
   "cell_type": "code",
   "execution_count": 28,
   "metadata": {
    "collapsed": false
   },
   "outputs": [],
   "source": [
    "q, r = np.linalg.qr(mtx)         #linalg.qrがQR分解のメソッド"
   ]
  },
  {
   "cell_type": "code",
   "execution_count": 29,
   "metadata": {
    "collapsed": false
   },
   "outputs": [
    {
     "name": "stdout",
     "output_type": "stream",
     "text": [
      "[[-0.84515425  0.53348902 -0.03322277]\n",
      " [-0.50709255 -0.81988839 -0.2657822 ]\n",
      " [-0.16903085 -0.20777993  0.96346047]]\n"
     ]
    }
   ],
   "source": [
    "print q"
   ]
  },
  {
   "cell_type": "code",
   "execution_count": 30,
   "metadata": {
    "collapsed": false
   },
   "outputs": [
    {
     "name": "stdout",
     "output_type": "stream",
     "text": [
      "[[-5.91607978 -5.57801808 -4.56383298]\n",
      " [ 0.         -5.08780054 -3.25147518]\n",
      " [ 0.          0.          3.68772799]]\n"
     ]
    }
   ],
   "source": [
    "print r"
   ]
  },
  {
   "cell_type": "code",
   "execution_count": 31,
   "metadata": {
    "collapsed": false
   },
   "outputs": [
    {
     "data": {
      "text/plain": [
       "array([[ 5.,  2.,  2.],\n",
       "       [ 3.,  7.,  4.],\n",
       "       [ 1.,  2.,  5.]])"
      ]
     },
     "execution_count": 31,
     "metadata": {},
     "output_type": "execute_result"
    }
   ],
   "source": [
    "np.dot(q, r) #q,rの内積"
   ]
  },
  {
   "cell_type": "markdown",
   "metadata": {},
   "source": [
    "つまり、qがmtxに対する正規直交行列となる。</br>\n",
    "QR分解では正規直交行列を求めることができたが、次元圧縮という意味では主成分分析が使われる。"
   ]
  },
  {
   "cell_type": "code",
   "execution_count": null,
   "metadata": {
    "collapsed": false
   },
   "outputs": [],
   "source": []
  }
 ],
 "metadata": {
  "kernelspec": {
   "display_name": "Python 2",
   "language": "python",
   "name": "python2"
  },
  "language_info": {
   "codemirror_mode": {
    "name": "ipython",
    "version": 2
   },
   "file_extension": ".py",
   "mimetype": "text/x-python",
   "name": "python",
   "nbconvert_exporter": "python",
   "pygments_lexer": "ipython2",
   "version": "2.7.7"
  }
 },
 "nbformat": 4,
 "nbformat_minor": 0
}
