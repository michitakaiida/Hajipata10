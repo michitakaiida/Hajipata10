{
 "cells": [
  {
   "cell_type": "code",
   "execution_count": 26,
   "metadata": {
    "collapsed": false
   },
   "outputs": [],
   "source": [
    "%matplotlib inline "
   ]
  },
  {
   "cell_type": "markdown",
   "metadata": {},
   "source": [
    "##部分空間法\n",
    "- 部分空間とは、あるベクトル空間の部分集合が、ベクトル空間となっているもの\n",
    "- d次元ベクトル空間Vの部分空間は、以下のように定義される。\n",
    "    - $x_1,x_2,x_3,・・・・x_r (r<=d)$をVのベクトルとするとする\n",
    "    - $x_1,x_2,x_3,・・・・x_r$の１次結合全体の集合$W=\\{a_1x_1+・・・+a_rx_r|a∈R,i=1,・・・,r\\}$はVの部分空間となる\n",
    "- Wがr次元の部分空間であるということは、$x_1,x_2,x_3,・・・・x_r$は１次独立であるということ（$x_1$は、他のtano$x_i$の線形結合で表現することができない）\n",
    "\n",
    "###部分空間の定義\n",
    "WがVの部分空間であるための必要十分条件\n",
    "\n",
    "1. $W≠0$ :存在している\n",
    "1. $x,y∈W → x＋y∈W$　：分配しても同じ　\n",
    "1. $x∈W,λ∈R → λx ∈W$　：xに実数を掛けても同じ\n",
    "\n",
    "###部分空間と分解\n",
    "ベクトル空間Vは部分空間Sと直交する部分空間$S^⊥$に分解できる\n",
    "![image1.png](./image1.png)\n",
    "\n",
    "ただし、１次独立であっても、直交していない場合もある。</br>\n",
    "その場合、直交座標系に変換する必要がある（グラム・シュミットの正規直交化など）</br>\n",
    "そうすることによって、部分空間の正規直交基底を求めることができる。\n",
    "\n",
    "####グラム・シュミットの正規直交化\n",
    "\n",
    "２つのベクトルの正規直交化の手順(a1/a2)\n",
    "\n",
    "1. a1を基準にとる\n",
    "2. a1を正規化する(長さ(ノルム)を１にする)\n",
    "3. a2をa1に対し直行するように1次変換する\n",
    "4. (3)で作ったベクトルを正規化する\n",
    "\n",
    "参考：ここのサイトがわかりやすかった</br>\n",
    "http://li.nu/blog/2010/07/gram-schmidt.html\n",
    "\n",
    "###QR分解\n",
    "グラムシュミットの直交化によるQR分解によって、正規直交基底を求めてみる。</br>\n",
    "QR分解とは、n x nの正方行列を直行行列と上三角行列の乗算に置き換えること。</br>\n",
    "以下、numpyで試す。"
   ]
  },
  {
   "cell_type": "code",
   "execution_count": 3,
   "metadata": {
    "collapsed": false
   },
   "outputs": [],
   "source": [
    "import numpy as np"
   ]
  },
  {
   "cell_type": "code",
   "execution_count": 4,
   "metadata": {
    "collapsed": false
   },
   "outputs": [],
   "source": [
    "mtx = np.array([[5,2,2],[3,7,4],[1,2,5]])"
   ]
  },
  {
   "cell_type": "code",
   "execution_count": 5,
   "metadata": {
    "collapsed": false
   },
   "outputs": [
    {
     "data": {
      "text/plain": [
       "array([[5, 2, 2],\n",
       "       [3, 7, 4],\n",
       "       [1, 2, 5]])"
      ]
     },
     "execution_count": 5,
     "metadata": {},
     "output_type": "execute_result"
    }
   ],
   "source": [
    "mtx"
   ]
  },
  {
   "cell_type": "code",
   "execution_count": 6,
   "metadata": {
    "collapsed": false
   },
   "outputs": [],
   "source": [
    "q, r = np.linalg.qr(mtx)         #linalg.qrがQR分解のメソッド"
   ]
  },
  {
   "cell_type": "code",
   "execution_count": 7,
   "metadata": {
    "collapsed": false
   },
   "outputs": [
    {
     "data": {
      "text/plain": [
       "array([[-0.84515425,  0.53348902, -0.03322277],\n",
       "       [-0.50709255, -0.81988839, -0.2657822 ],\n",
       "       [-0.16903085, -0.20777993,  0.96346047]])"
      ]
     },
     "execution_count": 7,
     "metadata": {},
     "output_type": "execute_result"
    }
   ],
   "source": [
    "q"
   ]
  },
  {
   "cell_type": "code",
   "execution_count": 8,
   "metadata": {
    "collapsed": false
   },
   "outputs": [
    {
     "data": {
      "text/plain": [
       "array([[-5.91607978, -5.57801808, -4.56383298],\n",
       "       [ 0.        , -5.08780054, -3.25147518],\n",
       "       [ 0.        ,  0.        ,  3.68772799]])"
      ]
     },
     "execution_count": 8,
     "metadata": {},
     "output_type": "execute_result"
    }
   ],
   "source": [
    "r"
   ]
  },
  {
   "cell_type": "code",
   "execution_count": 9,
   "metadata": {
    "collapsed": false
   },
   "outputs": [
    {
     "data": {
      "text/plain": [
       "array([[ 5.,  2.,  2.],\n",
       "       [ 3.,  7.,  4.],\n",
       "       [ 1.,  2.,  5.]])"
      ]
     },
     "execution_count": 9,
     "metadata": {},
     "output_type": "execute_result"
    }
   ],
   "source": [
    "np.dot(q, r) #q,rの内積"
   ]
  },
  {
   "cell_type": "markdown",
   "metadata": {},
   "source": [
    "つまり、qがmtxに対する正規直交行列となる。</br>\n",
    "QR分解では正規直交行列を求めることができたが、次元圧縮という意味では主成分分析が使われる。\n",
    "\n",
    "##主成分分析\n",
    "主成分分析とは、学習データ$x_i=(x_i1,x_i2,....,x_id)^T$ (i=1,2,...,N)の分散が最大となる方向への線形変換をもとめる手法のことである\n",
    "\n",
    "###なにを言っているんだ？\n",
    "つまりはこういうことだと思います\n",
    "\n",
    "- 下記のような、学習データがあるとします\n",
    "![image4.png](./image4.png)\n",
    "\n",
    "- とある方向への線形変換\n",
    "![image2.png](./image2.png)\n",
    "\n",
    "- 直線上に射影した各点の分散が最大になるように\n",
    "- 情報損失量(矢印)が最小となるように\n",
    "    - 4.1.3で説明があった、無相関化と同じこと\n",
    "![image3.png](./image3.png)\n",
    "\n",
    "###求め方\n",
    "1. 無相関化と同じく、共分散行列をもとめる\n",
    "    - N個のデータからなるデータ行列\n",
    "        - $X=(x_1,x_2,....,x_N)^T$\n",
    "    \n",
    "    - 平均ベクトル\n",
    "        - $\\overline{x}=(\\overline{x_1},\\overline{x_2},.....,\\overline{x_d},)^T$ \n",
    "    \n",
    "    - データ行列から平均ベクトルを引き算したベクトル \n",
    "        - $\\overline{X}=(x−\\overline{x_1},x−\\overline{x_2},.....,x−\\overline{x_d},)^T$ \n",
    "    \n",
    "    - 共分散行列Σ\n",
    "        - Σ= Var{$\\overline{X}$} = $\\cfrac{1}{N}\\overline{X}^T\\overline{X}$\n",
    "    \n",
    "2.係数ベクトルを用いて線形変換する\n",
    "\n",
    "   - N個のデータ$x_i-\\overline{x}$を係数ベクトル$a_j = (a_j1,a_j2,....,a_jd)^T$  (j=1,....d)を使って変換する\n",
    "        - $s_j = (s_1j,s_2j,.....,s_Nj)^T = \\overline{X}a_j$\n",
    "   \n",
    "   - この変換後のデータの分散は、平均が０となるため、以下のようになる\n",
    "        - $Var\\{s_j\\} = \\cfrac{1}{N}s_j^ts_j = \\cfrac{1}{N}(\\overline{X}a_j)^T(\\overline{X}a_j) = a_j^T Var\\{\\overline{X}\\}a_j$ \n",
    "         \n",
    "3.この分散$Var\\{s_j\\}$が最大となる射影ベクトルをもとめる\n",
    "   - 係数ベクトル$a_j$のノルムを1に制約したラグランジュ関数をつかう\n",
    "   - つまり、$E(a_j) = a_j^T Var\\{\\overline{X}\\} a_j - λ(a_j^T a_j -1)$を最大にする$a_j$をもとめることになる\n",
    "   - 上記の式を計算すると、Var{$\\overline{X}\\}a_j$ = $λa_j$となる\n",
    "   - これは、共分散行列に関する固有値をもとめることで、分散最大となる射影ベクトルが得られることを意味する\n",
    " \n",
    "4.固有値と成分の関係\n",
    "   \n",
    "   - 元のデータの共分散行列はd*dの行列なので、\"0ではない固有値\"の個数は、最大でd個\n",
    "   - 最大の固有値は、最大の分散となる（固有値＝その成分で表現できる分散量）\n",
    "   - 最大の固有値＝第一成分\n",
    "       - 2番目の固有値＝第二成分\n",
    "       - ・・・となり、全分散量＝全固有値の合計となる\n",
    "   - \"第k主成分の分散\"の全分散に対する割合を「成分kの寄与率」という\n",
    "       - $c_k= \\cfrac{λ_k}{V_ total}$\n",
    "   - \"第k主成分までの累積の分散\"の全分散に対する割合を「$累積寄与率_k$」という\n",
    "       - $r_k= \\cfrac{Σλ_i}{V_ total}$    \n",
    "   \n",
    " ##やってみる主成分分析\n",
    "    \n",
    " \n",
    "    "
   ]
  },
  {
   "cell_type": "code",
   "execution_count": 10,
   "metadata": {
    "collapsed": true
   },
   "outputs": [],
   "source": [
    "import matplotlib.pyplot as plt\n",
    "from mpl_toolkits.mplot3d import Axes3D\n",
    "from sklearn import decomposition\n",
    "from sklearn import datasets\n",
    "np.random.seed(5)"
   ]
  },
  {
   "cell_type": "code",
   "execution_count": 11,
   "metadata": {
    "collapsed": true
   },
   "outputs": [],
   "source": [
    "#データ読み込み\n",
    "centers = [[1, 1], [-1, -1], [1, -1]]\n",
    "iris = datasets.load_iris()\n",
    "X = iris.data\n",
    "y = iris.target"
   ]
  },
  {
   "cell_type": "code",
   "execution_count": 12,
   "metadata": {
    "collapsed": false
   },
   "outputs": [
    {
     "data": {
      "text/plain": [
       "array([[ 5.1,  3.5,  1.4,  0.2],\n",
       "       [ 4.9,  3. ,  1.4,  0.2],\n",
       "       [ 4.7,  3.2,  1.3,  0.2],\n",
       "       [ 4.6,  3.1,  1.5,  0.2],\n",
       "       [ 5. ,  3.6,  1.4,  0.2],\n",
       "       [ 5.4,  3.9,  1.7,  0.4],\n",
       "       [ 4.6,  3.4,  1.4,  0.3],\n",
       "       [ 5. ,  3.4,  1.5,  0.2],\n",
       "       [ 4.4,  2.9,  1.4,  0.2],\n",
       "       [ 4.9,  3.1,  1.5,  0.1],\n",
       "       [ 5.4,  3.7,  1.5,  0.2],\n",
       "       [ 4.8,  3.4,  1.6,  0.2],\n",
       "       [ 4.8,  3. ,  1.4,  0.1],\n",
       "       [ 4.3,  3. ,  1.1,  0.1],\n",
       "       [ 5.8,  4. ,  1.2,  0.2],\n",
       "       [ 5.7,  4.4,  1.5,  0.4],\n",
       "       [ 5.4,  3.9,  1.3,  0.4],\n",
       "       [ 5.1,  3.5,  1.4,  0.3],\n",
       "       [ 5.7,  3.8,  1.7,  0.3],\n",
       "       [ 5.1,  3.8,  1.5,  0.3],\n",
       "       [ 5.4,  3.4,  1.7,  0.2],\n",
       "       [ 5.1,  3.7,  1.5,  0.4],\n",
       "       [ 4.6,  3.6,  1. ,  0.2],\n",
       "       [ 5.1,  3.3,  1.7,  0.5],\n",
       "       [ 4.8,  3.4,  1.9,  0.2],\n",
       "       [ 5. ,  3. ,  1.6,  0.2],\n",
       "       [ 5. ,  3.4,  1.6,  0.4],\n",
       "       [ 5.2,  3.5,  1.5,  0.2],\n",
       "       [ 5.2,  3.4,  1.4,  0.2],\n",
       "       [ 4.7,  3.2,  1.6,  0.2],\n",
       "       [ 4.8,  3.1,  1.6,  0.2],\n",
       "       [ 5.4,  3.4,  1.5,  0.4],\n",
       "       [ 5.2,  4.1,  1.5,  0.1],\n",
       "       [ 5.5,  4.2,  1.4,  0.2],\n",
       "       [ 4.9,  3.1,  1.5,  0.1],\n",
       "       [ 5. ,  3.2,  1.2,  0.2],\n",
       "       [ 5.5,  3.5,  1.3,  0.2],\n",
       "       [ 4.9,  3.1,  1.5,  0.1],\n",
       "       [ 4.4,  3. ,  1.3,  0.2],\n",
       "       [ 5.1,  3.4,  1.5,  0.2],\n",
       "       [ 5. ,  3.5,  1.3,  0.3],\n",
       "       [ 4.5,  2.3,  1.3,  0.3],\n",
       "       [ 4.4,  3.2,  1.3,  0.2],\n",
       "       [ 5. ,  3.5,  1.6,  0.6],\n",
       "       [ 5.1,  3.8,  1.9,  0.4],\n",
       "       [ 4.8,  3. ,  1.4,  0.3],\n",
       "       [ 5.1,  3.8,  1.6,  0.2],\n",
       "       [ 4.6,  3.2,  1.4,  0.2],\n",
       "       [ 5.3,  3.7,  1.5,  0.2],\n",
       "       [ 5. ,  3.3,  1.4,  0.2],\n",
       "       [ 7. ,  3.2,  4.7,  1.4],\n",
       "       [ 6.4,  3.2,  4.5,  1.5],\n",
       "       [ 6.9,  3.1,  4.9,  1.5],\n",
       "       [ 5.5,  2.3,  4. ,  1.3],\n",
       "       [ 6.5,  2.8,  4.6,  1.5],\n",
       "       [ 5.7,  2.8,  4.5,  1.3],\n",
       "       [ 6.3,  3.3,  4.7,  1.6],\n",
       "       [ 4.9,  2.4,  3.3,  1. ],\n",
       "       [ 6.6,  2.9,  4.6,  1.3],\n",
       "       [ 5.2,  2.7,  3.9,  1.4],\n",
       "       [ 5. ,  2. ,  3.5,  1. ],\n",
       "       [ 5.9,  3. ,  4.2,  1.5],\n",
       "       [ 6. ,  2.2,  4. ,  1. ],\n",
       "       [ 6.1,  2.9,  4.7,  1.4],\n",
       "       [ 5.6,  2.9,  3.6,  1.3],\n",
       "       [ 6.7,  3.1,  4.4,  1.4],\n",
       "       [ 5.6,  3. ,  4.5,  1.5],\n",
       "       [ 5.8,  2.7,  4.1,  1. ],\n",
       "       [ 6.2,  2.2,  4.5,  1.5],\n",
       "       [ 5.6,  2.5,  3.9,  1.1],\n",
       "       [ 5.9,  3.2,  4.8,  1.8],\n",
       "       [ 6.1,  2.8,  4. ,  1.3],\n",
       "       [ 6.3,  2.5,  4.9,  1.5],\n",
       "       [ 6.1,  2.8,  4.7,  1.2],\n",
       "       [ 6.4,  2.9,  4.3,  1.3],\n",
       "       [ 6.6,  3. ,  4.4,  1.4],\n",
       "       [ 6.8,  2.8,  4.8,  1.4],\n",
       "       [ 6.7,  3. ,  5. ,  1.7],\n",
       "       [ 6. ,  2.9,  4.5,  1.5],\n",
       "       [ 5.7,  2.6,  3.5,  1. ],\n",
       "       [ 5.5,  2.4,  3.8,  1.1],\n",
       "       [ 5.5,  2.4,  3.7,  1. ],\n",
       "       [ 5.8,  2.7,  3.9,  1.2],\n",
       "       [ 6. ,  2.7,  5.1,  1.6],\n",
       "       [ 5.4,  3. ,  4.5,  1.5],\n",
       "       [ 6. ,  3.4,  4.5,  1.6],\n",
       "       [ 6.7,  3.1,  4.7,  1.5],\n",
       "       [ 6.3,  2.3,  4.4,  1.3],\n",
       "       [ 5.6,  3. ,  4.1,  1.3],\n",
       "       [ 5.5,  2.5,  4. ,  1.3],\n",
       "       [ 5.5,  2.6,  4.4,  1.2],\n",
       "       [ 6.1,  3. ,  4.6,  1.4],\n",
       "       [ 5.8,  2.6,  4. ,  1.2],\n",
       "       [ 5. ,  2.3,  3.3,  1. ],\n",
       "       [ 5.6,  2.7,  4.2,  1.3],\n",
       "       [ 5.7,  3. ,  4.2,  1.2],\n",
       "       [ 5.7,  2.9,  4.2,  1.3],\n",
       "       [ 6.2,  2.9,  4.3,  1.3],\n",
       "       [ 5.1,  2.5,  3. ,  1.1],\n",
       "       [ 5.7,  2.8,  4.1,  1.3],\n",
       "       [ 6.3,  3.3,  6. ,  2.5],\n",
       "       [ 5.8,  2.7,  5.1,  1.9],\n",
       "       [ 7.1,  3. ,  5.9,  2.1],\n",
       "       [ 6.3,  2.9,  5.6,  1.8],\n",
       "       [ 6.5,  3. ,  5.8,  2.2],\n",
       "       [ 7.6,  3. ,  6.6,  2.1],\n",
       "       [ 4.9,  2.5,  4.5,  1.7],\n",
       "       [ 7.3,  2.9,  6.3,  1.8],\n",
       "       [ 6.7,  2.5,  5.8,  1.8],\n",
       "       [ 7.2,  3.6,  6.1,  2.5],\n",
       "       [ 6.5,  3.2,  5.1,  2. ],\n",
       "       [ 6.4,  2.7,  5.3,  1.9],\n",
       "       [ 6.8,  3. ,  5.5,  2.1],\n",
       "       [ 5.7,  2.5,  5. ,  2. ],\n",
       "       [ 5.8,  2.8,  5.1,  2.4],\n",
       "       [ 6.4,  3.2,  5.3,  2.3],\n",
       "       [ 6.5,  3. ,  5.5,  1.8],\n",
       "       [ 7.7,  3.8,  6.7,  2.2],\n",
       "       [ 7.7,  2.6,  6.9,  2.3],\n",
       "       [ 6. ,  2.2,  5. ,  1.5],\n",
       "       [ 6.9,  3.2,  5.7,  2.3],\n",
       "       [ 5.6,  2.8,  4.9,  2. ],\n",
       "       [ 7.7,  2.8,  6.7,  2. ],\n",
       "       [ 6.3,  2.7,  4.9,  1.8],\n",
       "       [ 6.7,  3.3,  5.7,  2.1],\n",
       "       [ 7.2,  3.2,  6. ,  1.8],\n",
       "       [ 6.2,  2.8,  4.8,  1.8],\n",
       "       [ 6.1,  3. ,  4.9,  1.8],\n",
       "       [ 6.4,  2.8,  5.6,  2.1],\n",
       "       [ 7.2,  3. ,  5.8,  1.6],\n",
       "       [ 7.4,  2.8,  6.1,  1.9],\n",
       "       [ 7.9,  3.8,  6.4,  2. ],\n",
       "       [ 6.4,  2.8,  5.6,  2.2],\n",
       "       [ 6.3,  2.8,  5.1,  1.5],\n",
       "       [ 6.1,  2.6,  5.6,  1.4],\n",
       "       [ 7.7,  3. ,  6.1,  2.3],\n",
       "       [ 6.3,  3.4,  5.6,  2.4],\n",
       "       [ 6.4,  3.1,  5.5,  1.8],\n",
       "       [ 6. ,  3. ,  4.8,  1.8],\n",
       "       [ 6.9,  3.1,  5.4,  2.1],\n",
       "       [ 6.7,  3.1,  5.6,  2.4],\n",
       "       [ 6.9,  3.1,  5.1,  2.3],\n",
       "       [ 5.8,  2.7,  5.1,  1.9],\n",
       "       [ 6.8,  3.2,  5.9,  2.3],\n",
       "       [ 6.7,  3.3,  5.7,  2.5],\n",
       "       [ 6.7,  3. ,  5.2,  2.3],\n",
       "       [ 6.3,  2.5,  5. ,  1.9],\n",
       "       [ 6.5,  3. ,  5.2,  2. ],\n",
       "       [ 6.2,  3.4,  5.4,  2.3],\n",
       "       [ 5.9,  3. ,  5.1,  1.8]])"
      ]
     },
     "execution_count": 12,
     "metadata": {},
     "output_type": "execute_result"
    }
   ],
   "source": [
    "#がくの長さ (cm)','がくの幅 (cm)','花びらの長さ (cm)','花びらの長ha width (cm)'\n",
    "X"
   ]
  },
  {
   "cell_type": "code",
   "execution_count": 13,
   "metadata": {
    "collapsed": false
   },
   "outputs": [
    {
     "data": {
      "text/plain": [
       "array([0, 0, 0, 0, 0, 0, 0, 0, 0, 0, 0, 0, 0, 0, 0, 0, 0, 0, 0, 0, 0, 0, 0,\n",
       "       0, 0, 0, 0, 0, 0, 0, 0, 0, 0, 0, 0, 0, 0, 0, 0, 0, 0, 0, 0, 0, 0, 0,\n",
       "       0, 0, 0, 0, 1, 1, 1, 1, 1, 1, 1, 1, 1, 1, 1, 1, 1, 1, 1, 1, 1, 1, 1,\n",
       "       1, 1, 1, 1, 1, 1, 1, 1, 1, 1, 1, 1, 1, 1, 1, 1, 1, 1, 1, 1, 1, 1, 1,\n",
       "       1, 1, 1, 1, 1, 1, 1, 1, 2, 2, 2, 2, 2, 2, 2, 2, 2, 2, 2, 2, 2, 2, 2,\n",
       "       2, 2, 2, 2, 2, 2, 2, 2, 2, 2, 2, 2, 2, 2, 2, 2, 2, 2, 2, 2, 2, 2, 2,\n",
       "       2, 2, 2, 2, 2, 2, 2, 2, 2, 2, 2, 2])"
      ]
     },
     "execution_count": 13,
     "metadata": {},
     "output_type": "execute_result"
    }
   ],
   "source": [
    "#品種　'setosa', 'versicolor', 'virginica'\n",
    "y"
   ]
  },
  {
   "cell_type": "code",
   "execution_count": 14,
   "metadata": {
    "collapsed": true
   },
   "outputs": [],
   "source": [
    "sudsetX = iris.data[:, :2]  # 最初の２次元（がくだけ）"
   ]
  },
  {
   "cell_type": "code",
   "execution_count": 15,
   "metadata": {
    "collapsed": false,
    "scrolled": true
   },
   "outputs": [
    {
     "data": {
      "text/plain": [
       "array([[ 5.1,  3.5],\n",
       "       [ 4.9,  3. ],\n",
       "       [ 4.7,  3.2],\n",
       "       [ 4.6,  3.1],\n",
       "       [ 5. ,  3.6],\n",
       "       [ 5.4,  3.9],\n",
       "       [ 4.6,  3.4],\n",
       "       [ 5. ,  3.4],\n",
       "       [ 4.4,  2.9],\n",
       "       [ 4.9,  3.1],\n",
       "       [ 5.4,  3.7],\n",
       "       [ 4.8,  3.4],\n",
       "       [ 4.8,  3. ],\n",
       "       [ 4.3,  3. ],\n",
       "       [ 5.8,  4. ],\n",
       "       [ 5.7,  4.4],\n",
       "       [ 5.4,  3.9],\n",
       "       [ 5.1,  3.5],\n",
       "       [ 5.7,  3.8],\n",
       "       [ 5.1,  3.8],\n",
       "       [ 5.4,  3.4],\n",
       "       [ 5.1,  3.7],\n",
       "       [ 4.6,  3.6],\n",
       "       [ 5.1,  3.3],\n",
       "       [ 4.8,  3.4],\n",
       "       [ 5. ,  3. ],\n",
       "       [ 5. ,  3.4],\n",
       "       [ 5.2,  3.5],\n",
       "       [ 5.2,  3.4],\n",
       "       [ 4.7,  3.2],\n",
       "       [ 4.8,  3.1],\n",
       "       [ 5.4,  3.4],\n",
       "       [ 5.2,  4.1],\n",
       "       [ 5.5,  4.2],\n",
       "       [ 4.9,  3.1],\n",
       "       [ 5. ,  3.2],\n",
       "       [ 5.5,  3.5],\n",
       "       [ 4.9,  3.1],\n",
       "       [ 4.4,  3. ],\n",
       "       [ 5.1,  3.4],\n",
       "       [ 5. ,  3.5],\n",
       "       [ 4.5,  2.3],\n",
       "       [ 4.4,  3.2],\n",
       "       [ 5. ,  3.5],\n",
       "       [ 5.1,  3.8],\n",
       "       [ 4.8,  3. ],\n",
       "       [ 5.1,  3.8],\n",
       "       [ 4.6,  3.2],\n",
       "       [ 5.3,  3.7],\n",
       "       [ 5. ,  3.3],\n",
       "       [ 7. ,  3.2],\n",
       "       [ 6.4,  3.2],\n",
       "       [ 6.9,  3.1],\n",
       "       [ 5.5,  2.3],\n",
       "       [ 6.5,  2.8],\n",
       "       [ 5.7,  2.8],\n",
       "       [ 6.3,  3.3],\n",
       "       [ 4.9,  2.4],\n",
       "       [ 6.6,  2.9],\n",
       "       [ 5.2,  2.7],\n",
       "       [ 5. ,  2. ],\n",
       "       [ 5.9,  3. ],\n",
       "       [ 6. ,  2.2],\n",
       "       [ 6.1,  2.9],\n",
       "       [ 5.6,  2.9],\n",
       "       [ 6.7,  3.1],\n",
       "       [ 5.6,  3. ],\n",
       "       [ 5.8,  2.7],\n",
       "       [ 6.2,  2.2],\n",
       "       [ 5.6,  2.5],\n",
       "       [ 5.9,  3.2],\n",
       "       [ 6.1,  2.8],\n",
       "       [ 6.3,  2.5],\n",
       "       [ 6.1,  2.8],\n",
       "       [ 6.4,  2.9],\n",
       "       [ 6.6,  3. ],\n",
       "       [ 6.8,  2.8],\n",
       "       [ 6.7,  3. ],\n",
       "       [ 6. ,  2.9],\n",
       "       [ 5.7,  2.6],\n",
       "       [ 5.5,  2.4],\n",
       "       [ 5.5,  2.4],\n",
       "       [ 5.8,  2.7],\n",
       "       [ 6. ,  2.7],\n",
       "       [ 5.4,  3. ],\n",
       "       [ 6. ,  3.4],\n",
       "       [ 6.7,  3.1],\n",
       "       [ 6.3,  2.3],\n",
       "       [ 5.6,  3. ],\n",
       "       [ 5.5,  2.5],\n",
       "       [ 5.5,  2.6],\n",
       "       [ 6.1,  3. ],\n",
       "       [ 5.8,  2.6],\n",
       "       [ 5. ,  2.3],\n",
       "       [ 5.6,  2.7],\n",
       "       [ 5.7,  3. ],\n",
       "       [ 5.7,  2.9],\n",
       "       [ 6.2,  2.9],\n",
       "       [ 5.1,  2.5],\n",
       "       [ 5.7,  2.8],\n",
       "       [ 6.3,  3.3],\n",
       "       [ 5.8,  2.7],\n",
       "       [ 7.1,  3. ],\n",
       "       [ 6.3,  2.9],\n",
       "       [ 6.5,  3. ],\n",
       "       [ 7.6,  3. ],\n",
       "       [ 4.9,  2.5],\n",
       "       [ 7.3,  2.9],\n",
       "       [ 6.7,  2.5],\n",
       "       [ 7.2,  3.6],\n",
       "       [ 6.5,  3.2],\n",
       "       [ 6.4,  2.7],\n",
       "       [ 6.8,  3. ],\n",
       "       [ 5.7,  2.5],\n",
       "       [ 5.8,  2.8],\n",
       "       [ 6.4,  3.2],\n",
       "       [ 6.5,  3. ],\n",
       "       [ 7.7,  3.8],\n",
       "       [ 7.7,  2.6],\n",
       "       [ 6. ,  2.2],\n",
       "       [ 6.9,  3.2],\n",
       "       [ 5.6,  2.8],\n",
       "       [ 7.7,  2.8],\n",
       "       [ 6.3,  2.7],\n",
       "       [ 6.7,  3.3],\n",
       "       [ 7.2,  3.2],\n",
       "       [ 6.2,  2.8],\n",
       "       [ 6.1,  3. ],\n",
       "       [ 6.4,  2.8],\n",
       "       [ 7.2,  3. ],\n",
       "       [ 7.4,  2.8],\n",
       "       [ 7.9,  3.8],\n",
       "       [ 6.4,  2.8],\n",
       "       [ 6.3,  2.8],\n",
       "       [ 6.1,  2.6],\n",
       "       [ 7.7,  3. ],\n",
       "       [ 6.3,  3.4],\n",
       "       [ 6.4,  3.1],\n",
       "       [ 6. ,  3. ],\n",
       "       [ 6.9,  3.1],\n",
       "       [ 6.7,  3.1],\n",
       "       [ 6.9,  3.1],\n",
       "       [ 5.8,  2.7],\n",
       "       [ 6.8,  3.2],\n",
       "       [ 6.7,  3.3],\n",
       "       [ 6.7,  3. ],\n",
       "       [ 6.3,  2.5],\n",
       "       [ 6.5,  3. ],\n",
       "       [ 6.2,  3.4],\n",
       "       [ 5.9,  3. ]])"
      ]
     },
     "execution_count": 15,
     "metadata": {},
     "output_type": "execute_result"
    }
   ],
   "source": [
    "sudsetX"
   ]
  },
  {
   "cell_type": "code",
   "execution_count": 68,
   "metadata": {
    "collapsed": false
   },
   "outputs": [
    {
     "data": {
      "text/plain": [
       "[<matplotlib.lines.Line2D at 0x111280e80>]"
      ]
     },
     "execution_count": 68,
     "metadata": {},
     "output_type": "execute_result"
    },
    {
     "data": {
      "image/png": "[encoded data removed]",
      "text/plain": [
       "<matplotlib.figure.Figure at 0x110e70908>"
      ]
     },
     "metadata": {},
     "output_type": "display_data"
    }
   ],
   "source": [
    "plt.plot(sudsetX[:,0],sudsetX[:,1],\"o\") #２変数間の様子をplot"
   ]
  },
  {
   "cell_type": "code",
   "execution_count": 69,
   "metadata": {
    "collapsed": false
   },
   "outputs": [
    {
     "data": {
      "text/plain": [
       "PCA(copy=True, n_components=1, whiten=False)"
      ]
     },
     "execution_count": 69,
     "metadata": {},
     "output_type": "execute_result"
    }
   ],
   "source": [
    "#主成分を1つ抽出\n",
    "pca = decomposition.PCA(n_components=1)\n",
    "pca.fit(sudsetX)"
   ]
  },
  {
   "cell_type": "code",
   "execution_count": 70,
   "metadata": {
    "collapsed": false
   },
   "outputs": [
    {
     "data": {
      "text/plain": [
       "array([ 0.78834238])"
      ]
     },
     "execution_count": 70,
     "metadata": {},
     "output_type": "execute_result"
    }
   ],
   "source": [
    "pca.explained_variance_ratio_ #主成分の寄与率"
   ]
  },
  {
   "cell_type": "code",
   "execution_count": 71,
   "metadata": {
    "collapsed": false
   },
   "outputs": [
    {
     "data": {
      "text/plain": [
       "array([[-0.77592505],\n",
       "       [-0.93622478],\n",
       "       [-1.15124796],\n",
       "       [-1.24312428],\n",
       "       [-0.88343664],\n",
       "       [-0.50811373],\n",
       "       [-1.26657719],\n",
       "       [-0.86780137],\n",
       "       [-1.42687692],\n",
       "       [-0.94404242],\n",
       "       [-0.49247846],\n",
       "       [-1.06718928],\n",
       "       [-1.03591874],\n",
       "       [-1.53438851],\n",
       "       [-0.11715554],\n",
       "       [-0.24812004],\n",
       "       [-0.50811373],\n",
       "       [-0.77592505],\n",
       "       [-0.20121423],\n",
       "       [-0.79937796],\n",
       "       [-0.46902555],\n",
       "       [-0.79156032],\n",
       "       [-1.28221246],\n",
       "       [-0.76028978],\n",
       "       [-1.06718928],\n",
       "       [-0.83653083],\n",
       "       [-0.86780137],\n",
       "       [-0.67623109],\n",
       "       [-0.66841346],\n",
       "       [-1.15124796],\n",
       "       [-1.04373637],\n",
       "       [-0.46902555],\n",
       "       [-0.72313691],\n",
       "       [-0.43187268],\n",
       "       [-0.94404242],\n",
       "       [-0.8521661 ],\n",
       "       [-0.37714923],\n",
       "       [-0.94404242],\n",
       "       [-1.43469455],\n",
       "       [-0.76810741],\n",
       "       [-0.875619  ],\n",
       "       [-1.28027715],\n",
       "       [-1.45032983],\n",
       "       [-0.875619  ],\n",
       "       [-0.79937796],\n",
       "       [-1.03591874],\n",
       "       [-0.79937796],\n",
       "       [-1.25094192],\n",
       "       [-0.59217241],\n",
       "       [-0.85998373],\n",
       "       [ 1.14171299],\n",
       "       [ 0.54354927],\n",
       "       [ 1.04983667],\n",
       "       [-0.28333761],\n",
       "       [ 0.67451376],\n",
       "       [-0.12303787],\n",
       "       [ 0.43603768],\n",
       "       [-0.88931897],\n",
       "       [ 0.76639008],\n",
       "       [-0.61369001],\n",
       "       [-0.75835447],\n",
       "       [ 0.06071476],\n",
       "       [ 0.2229498 ],\n",
       "       [ 0.26792031],\n",
       "       [-0.23054946],\n",
       "       [ 0.85044877],\n",
       "       [-0.2383671 ],\n",
       "       [-0.01552628],\n",
       "       [ 0.42233771],\n",
       "       [-0.19927892],\n",
       "       [ 0.04507949],\n",
       "       [ 0.27573794],\n",
       "       [ 0.49857876],\n",
       "       [ 0.27573794],\n",
       "       [ 0.56700217],\n",
       "       [ 0.75857245],\n",
       "       [ 0.97359563],\n",
       "       [ 0.8582664 ],\n",
       "       [ 0.16822635],\n",
       "       [-0.1074026 ],\n",
       "       [-0.29115524],\n",
       "       [-0.29115524],\n",
       "       [-0.01552628],\n",
       "       [ 0.18386162],\n",
       "       [-0.43775501],\n",
       "       [ 0.12913818],\n",
       "       [ 0.85044877],\n",
       "       [ 0.51421403],\n",
       "       [-0.2383671 ],\n",
       "       [-0.29897288],\n",
       "       [-0.30679051],\n",
       "       [ 0.26010267],\n",
       "       [-0.00770865],\n",
       "       [-0.78180738],\n",
       "       [-0.21491419],\n",
       "       [-0.13867315],\n",
       "       [-0.13085551],\n",
       "       [ 0.36761426],\n",
       "       [-0.6977487 ],\n",
       "       [-0.12303787],\n",
       "       [ 0.43603768],\n",
       "       [-0.01552628],\n",
       "       [ 1.25704222],\n",
       "       [ 0.46730822],\n",
       "       [ 0.65887849],\n",
       "       [ 1.75551199],\n",
       "       [-0.8971366 ],\n",
       "       [ 1.46424776],\n",
       "       [ 0.89735458],\n",
       "       [ 1.30983036],\n",
       "       [ 0.64324322],\n",
       "       [ 0.58263744],\n",
       "       [ 0.95796036],\n",
       "       [-0.09958497],\n",
       "       [-0.02334392],\n",
       "       [ 0.54354927],\n",
       "       [ 0.65887849],\n",
       "       [ 1.79266486],\n",
       "       [ 1.88647649],\n",
       "       [ 0.2229498 ],\n",
       "       [ 1.04201904],\n",
       "       [-0.22273183],\n",
       "       [ 1.87084122],\n",
       "       [ 0.48294349],\n",
       "       [ 0.83481349],\n",
       "       [ 1.3411009 ],\n",
       "       [ 0.3754319 ],\n",
       "       [ 0.26010267],\n",
       "       [ 0.57481981],\n",
       "       [ 1.35673617],\n",
       "       [ 1.57175935],\n",
       "       [ 1.99205277],\n",
       "       [ 0.57481981],\n",
       "       [ 0.47512585],\n",
       "       [ 0.29137321],\n",
       "       [ 1.85520595],\n",
       "       [ 0.42822004],\n",
       "       [ 0.5513669 ],\n",
       "       [ 0.16040872],\n",
       "       [ 1.04983667],\n",
       "       [ 0.85044877],\n",
       "       [ 1.04983667],\n",
       "       [-0.01552628],\n",
       "       [ 0.94232508],\n",
       "       [ 0.83481349],\n",
       "       [ 0.8582664 ],\n",
       "       [ 0.49857876],\n",
       "       [ 0.65887849],\n",
       "       [ 0.32852609],\n",
       "       [ 0.06071476]])"
      ]
     },
     "execution_count": 71,
     "metadata": {},
     "output_type": "execute_result"
    }
   ],
   "source": [
    "X_reduced = decomposition.PCA(n_components=1).fit_transform(sudsetX) #変換後の値\n",
    "X_reduced "
   ]
  },
  {
   "cell_type": "code",
   "execution_count": 72,
   "metadata": {
    "collapsed": false
   },
   "outputs": [
    {
     "data": {
      "text/plain": [
       "[<matplotlib.lines.Line2D at 0x110e4fef0>]"
      ]
     },
     "execution_count": 72,
     "metadata": {},
     "output_type": "execute_result"
    },
    {
     "data": {
      "image/png": "[encoded data removed]",
      "text/plain": [
       "<matplotlib.figure.Figure at 0x11128d5c0>"
      ]
     },
     "metadata": {},
     "output_type": "display_data"
    }
   ],
   "source": [
    "plt.plot(X_reduced,np.zeros(X_reduced.size),\"o\")　#１変数に射影した後のplot"
   ]
  },
  {
   "cell_type": "code",
   "execution_count": null,
   "metadata": {
    "collapsed": true
   },
   "outputs": [],
   "source": []
  }
 ],
 "metadata": {
  "kernelspec": {
   "display_name": "Python 3",
   "language": "python",
   "name": "python3"
  },
  "language_info": {
   "codemirror_mode": {
    "name": "ipython",
    "version": 3
   },
   "file_extension": ".py",
   "mimetype": "text/x-python",
   "name": "python",
   "nbconvert_exporter": "python",
   "pygments_lexer": "ipython3",
   "version": "3.4.0"
  }
 },
 "nbformat": 4,
 "nbformat_minor": 0
}
