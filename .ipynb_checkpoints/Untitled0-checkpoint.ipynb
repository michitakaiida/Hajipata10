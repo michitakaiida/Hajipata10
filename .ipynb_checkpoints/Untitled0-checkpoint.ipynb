{
 "cells": [
  {
   "cell_type": "code",
   "execution_count": 1,
   "metadata": {
    "collapsed": false
   },
   "outputs": [
    {
     "name": "stdout",
     "output_type": "stream",
     "text": [
      "Using matplotlib backend: MacOSX\n"
     ]
    }
   ],
   "source": [
    "%matplotlib"
   ]
  },
  {
   "cell_type": "markdown",
   "metadata": {},
   "source": [
    "##部分空間法\n",
    "- 部分空間とは、あるベクトル空間の部分集合が、ベクトル空間となっているもの\n",
    "- d次元ベクトル空間Vの部分空間は、以下のように定義される。\n",
    "    - $x_1,x_2,x_3,・・・・x_r (r<=d)$をVのベクトルとするとする\n",
    "    - $x_1,x_2,x_3,・・・・x_r$の１次結合全体の集合$W=\\{a_1x_1+・・・+a_rx_r|a∈R,i=1,・・・,r\\}$はVの部分空間となる\n",
    "- Wがr次元の部分空間であるということは、$x_1,x_2,x_3,・・・・x_r$は１次独立であるということ（$x_1$は、他のtano$x_i$の線形結合で表現することができない）\n",
    "\n",
    "###部分空間の定義\n",
    "WがVの部分空間であるための必要十分条件\n",
    "\n",
    "1. $W≠0$ :存在している\n",
    "1. $x,y∈W → x＋y∈W$　：分配しても同じ　\n",
    "1. $x∈W,λ∈R → λx ∈W$　：xに実数を掛けても同じ\n",
    "\n",
    "###部分空間と分解\n",
    "ベクトル空間Vは部分空間Sと直交する部分空間$S^⊥$に分解できる\n",
    "![image1.png](./image1.png)\n",
    "\n"
   ]
  },
  {
   "cell_type": "code",
   "execution_count": null,
   "metadata": {
    "collapsed": false
   },
   "outputs": [],
   "source": []
  },
  {
   "cell_type": "code",
   "execution_count": null,
   "metadata": {
    "collapsed": false
   },
   "outputs": [],
   "source": []
  },
  {
   "cell_type": "code",
   "execution_count": null,
   "metadata": {
    "collapsed": false
   },
   "outputs": [],
   "source": []
  }
 ],
 "metadata": {
  "kernelspec": {
   "display_name": "Python 2",
   "language": "python",
   "name": "python2"
  },
  "language_info": {
   "codemirror_mode": {
    "name": "ipython",
    "version": 2
   },
   "file_extension": ".py",
   "mimetype": "text/x-python",
   "name": "python",
   "nbconvert_exporter": "python",
   "pygments_lexer": "ipython2",
   "version": "2.7.7"
  }
 },
 "nbformat": 4,
 "nbformat_minor": 0
}
